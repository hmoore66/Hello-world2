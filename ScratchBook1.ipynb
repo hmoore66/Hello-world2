{
  "nbformat": 4,
  "nbformat_minor": 0,
  "metadata": {
    "colab": {
      "provenance": [],
      "toc_visible": true,
      "include_colab_link": true
    },
    "kernelspec": {
      "name": "python3",
      "display_name": "Python 3"
    },
    "language_info": {
      "name": "python"
    }
  },
  "cells": [
    {
      "cell_type": "markdown",
      "metadata": {
        "id": "view-in-github",
        "colab_type": "text"
      },
      "source": [
        "<a href=\"https://colab.research.google.com/github/hmoore66/Tate-Colab-Notebooks/blob/master/ScratchBook1.ipynb\" target=\"_parent\"><img src=\"https://colab.research.google.com/assets/colab-badge.svg\" alt=\"Open In Colab\"/></a>"
      ]
    },
    {
      "cell_type": "markdown",
      "source": [
        "# New Section 1"
      ],
      "metadata": {
        "id": "R73sEAO_7j_j"
      }
    },
    {
      "cell_type": "markdown",
      "source": [
        "# New Section 2"
      ],
      "metadata": {
        "id": "BEL7aaxZ7xa6"
      }
    },
    {
      "cell_type": "code",
      "execution_count": 1,
      "metadata": {
        "id": "iIhR4j4-4BFh",
        "outputId": "1b8bef22-fa47-4367-e697-d79ee5c16161",
        "colab": {
          "base_uri": "https://localhost:8080/"
        }
      },
      "outputs": [
        {
          "output_type": "stream",
          "name": "stdout",
          "text": [
            "3\n"
          ]
        },
        {
          "output_type": "execute_result",
          "data": {
            "text/plain": [
              "b'Hello, TensorFlow!'"
            ]
          },
          "metadata": {},
          "execution_count": 1
        }
      ],
      "source": [
        "import tensorflow as tf\n",
        "print(tf.add(1, 2).numpy())\n",
        "\n",
        "hello = tf.constant('Hello, TensorFlow!')\n",
        "hello.numpy()"
      ]
    }
  ]
}